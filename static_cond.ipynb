{
 "cells": [
  {
   "cell_type": "markdown",
   "metadata": {},
   "source": [
    "# Use of static condensation to solve a linear system\n",
    "\n",
    "When using the spectral element method (SEM) to solve partial differential equations (PDE), it is common for the basis function to have modes with support on boundaries (of elements) and modes with support only inside an element. This structure can be exploited when solving the linear system.\n",
    "\n",
    "Here, as an exercise for implementing the solver using this technique, we will use it to solve a symmetric linear system that is decomposed as \n",
    "\n",
    "$$\n",
    "A\\cdot x  = \\left[ \n",
    "\\begin{matrix} \n",
    "A_{bb} & A_{bi} \\\\\n",
    "A_{ib} & A_{ii} \\\\\n",
    "\\end{matrix}\\right] \\cdot \\left\\{\n",
    "\\begin{matrix} x_b \\\\ x_i \\\\ \n",
    "\\end{matrix}\\right\\} = \n",
    "\\left\\{\\begin{matrix} f_b \\\\ f_i \\\\\\end{matrix}\\right\\} \n",
    "$$\n",
    "\n",
    "where $A_{bb}$, $A_{bi}$, $A_{ib}$ and $A_{ii}$ are submatrices.\n",
    "\n",
    "The second row can be solved for $x_i$:\n",
    "\n",
    "$$\n",
    "x_i = A_{ii}^{-1} f_i - A_{ii}^{-1} A_{ib} x_b\n",
    "$$\n",
    "\n",
    "Substituting this on the first row:\n",
    "\n",
    "$$\n",
    "\\left( A_{bb} - A_{bi}A_{ii}^{-1} A_{ib} \\right) x_b = f_b - A_{bi}A_{ii}^{-1} f_i\n",
    "$$\n",
    "\n",
    "This can be rewritten as\n",
    "\n",
    "$$\n",
    "A'_{bb} \\cdot x_b = f'_b\n",
    "$$\n",
    "\n",
    "where $A'_{bb} = A_{bb} - A_{bi}A_{ii}^{-1} A_{ib}$ and \n",
    "$f'_b = f_b - A_{bi}A_{ii}^{-1} f_i$.\n",
    "\n",
    "With these transormations, if the linear system is symmetric and positive and definite,  to solve a linear system, we need to use the following steps:\n",
    " \n",
    " * Compute $A_{ii}^{-1}$ (in reality do a Cholesky decomposition).\n",
    " * Compute $A_{bi} A_{ii}^{-1}$\n",
    " * Compute the Choleksy factorization of $A'_{bb} = A_{bb} - A_{bi}A_{ii}^{-1} \\cdot A_{ib}$\n",
    " \n",
    "To solve the linear system given a RHS (f):\n",
    "\n",
    " * Compute $f'_b = f_b - A_{bi}A_{ii}^{-1} f_i$.\n",
    " * Using the Cholesky factorization of $A'_{bb}$ compute $x_b$.\n",
    " * Now, using the Choleksy factorization of $A_{ii}$ compute $x_i = A_{ii}^{-1} f_i - A_{ii}^{-1} A_{ib} x_b$\n"
   ]
  },
  {
   "cell_type": "markdown",
   "metadata": {},
   "source": [
    "## A function to generate random symmetric matrices"
   ]
  },
  {
   "cell_type": "code",
   "execution_count": 366,
   "metadata": {
    "collapsed": false
   },
   "outputs": [
    {
     "data": {
      "text/plain": [
       "random_matrix (generic function with 3 methods)"
      ]
     },
     "execution_count": 366,
     "metadata": {},
     "output_type": "execute_result"
    }
   ],
   "source": [
    "\n",
    "function random_matrix(n, symm=true, diag=4.0)\n",
    "    A = randn(n,n)\n",
    "    for i = 1:n\n",
    "        A[i,i] += diag\n",
    "    end\n",
    "    \n",
    "    if symm\n",
    "        A = (A + A') / 2\n",
    "    end\n",
    "    \n",
    "    return A\n",
    "end"
   ]
  },
  {
   "cell_type": "markdown",
   "metadata": {},
   "source": [
    "### Creating the matrix"
   ]
  },
  {
   "cell_type": "code",
   "execution_count": 367,
   "metadata": {
    "collapsed": false
   },
   "outputs": [
    {
     "data": {
      "text/plain": [
       "6"
      ]
     },
     "execution_count": 367,
     "metadata": {},
     "output_type": "execute_result"
    }
   ],
   "source": [
    "N = 10\n",
    "nb = 4\n",
    "ni = N - nb"
   ]
  },
  {
   "cell_type": "code",
   "execution_count": 368,
   "metadata": {
    "collapsed": false
   },
   "outputs": [],
   "source": [
    "A = [\n",
    " 3.73295   0.351419  -0.534708   0.301579   0.558047;\n",
    "  0.351419  6.48719    0.31895    0.198893   0.400289;\n",
    " -0.534708  0.31895    4.81739    0.309232  -0.103873;\n",
    "  0.301579  0.198893   0.309232   5.411     -0.37619 ;\n",
    "    0.558047  0.400289  -0.103873  -0.37619    3.44621 ]\n",
    "\n",
    "\n",
    "A = random_matrix(N);\n"
   ]
  },
  {
   "cell_type": "markdown",
   "metadata": {},
   "source": [
    "### Obtaining the sub-matrices"
   ]
  },
  {
   "cell_type": "code",
   "execution_count": 369,
   "metadata": {
    "collapsed": false
   },
   "outputs": [],
   "source": [
    "Abb = A[1:nb, 1:nb];"
   ]
  },
  {
   "cell_type": "code",
   "execution_count": 370,
   "metadata": {
    "collapsed": true
   },
   "outputs": [],
   "source": [
    "Abi = A[1:nb, (nb+1):N];"
   ]
  },
  {
   "cell_type": "code",
   "execution_count": 371,
   "metadata": {
    "collapsed": true
   },
   "outputs": [],
   "source": [
    "Aib = A[(nb+1):N, 1:nb];"
   ]
  },
  {
   "cell_type": "code",
   "execution_count": 372,
   "metadata": {
    "collapsed": false
   },
   "outputs": [],
   "source": [
    "Aii = A[(nb+1):N, (nb+1):N];"
   ]
  },
  {
   "cell_type": "markdown",
   "metadata": {},
   "source": [
    "### Loading the appropriate modules"
   ]
  },
  {
   "cell_type": "code",
   "execution_count": 373,
   "metadata": {
    "collapsed": true
   },
   "outputs": [],
   "source": [
    "using ArrayViews\n",
    "using Base.LinAlg.BLAS.gemm!\n",
    "using Base.LinAlg.BLAS.gemv!\n",
    "using Base.LinAlg.LAPACK.potrf!\n",
    "using Base.LinAlg.LAPACK.potrs!\n"
   ]
  },
  {
   "cell_type": "markdown",
   "metadata": {},
   "source": [
    "Cholesky decompostion of $A_{ii}$"
   ]
  },
  {
   "cell_type": "code",
   "execution_count": 374,
   "metadata": {
    "collapsed": false
   },
   "outputs": [],
   "source": [
    "potrf!('L', Aii);"
   ]
  },
  {
   "cell_type": "markdown",
   "metadata": {},
   "source": [
    "Computing the matrix $A_{bi}A_{ii}^{-1}$. This is kindy of tricky. Remembering that $(A\\cdot B)^T = A^T\\cdot B^T$, and that the system is symmetric, if we compute $M = A_{ii}^{-1}\\cdot A_{ib}$, then $M^T = \\left(A_{ii}^{-1}\\cdot A_{ib}\\right)^T = A_{bi}\\cdot A_{ii}^{-1}$"
   ]
  },
  {
   "cell_type": "code",
   "execution_count": 375,
   "metadata": {
    "collapsed": false
   },
   "outputs": [],
   "source": [
    "M = copy(Aib);\n",
    "potrs!('L', Aii, M);"
   ]
  },
  {
   "cell_type": "markdown",
   "metadata": {},
   "source": [
    "Now we need to compute $A'_{bb} =  A_{bb} - A_{bi}A_{ii}^{-1} A_{ib} = A_{bb} - M^T\\cdot A_{ib}$. BLAS makes it simple:"
   ]
  },
  {
   "cell_type": "code",
   "execution_count": 376,
   "metadata": {
    "collapsed": false
   },
   "outputs": [],
   "source": [
    "gemm!('T', 'N', -1.0, M, Aib, 1.0, Abb);"
   ]
  },
  {
   "cell_type": "markdown",
   "metadata": {},
   "source": [
    "Cholesky decomposition of $A'_{bb}$:"
   ]
  },
  {
   "cell_type": "code",
   "execution_count": 377,
   "metadata": {
    "collapsed": false
   },
   "outputs": [],
   "source": [
    "potrf!('L', Abb);"
   ]
  },
  {
   "cell_type": "markdown",
   "metadata": {},
   "source": [
    "### Solving for a RHS\n",
    "\n",
    "This is just a test. Let's just create any RHS:"
   ]
  },
  {
   "cell_type": "code",
   "execution_count": 378,
   "metadata": {
    "collapsed": true
   },
   "outputs": [],
   "source": [
    "f = float([1:N]);"
   ]
  },
  {
   "cell_type": "code",
   "execution_count": 379,
   "metadata": {
    "collapsed": false
   },
   "outputs": [],
   "source": [
    "fbi = copy(f);"
   ]
  },
  {
   "cell_type": "code",
   "execution_count": 380,
   "metadata": {
    "collapsed": true
   },
   "outputs": [],
   "source": [
    "fb = view(fbi, 1:nb)\n",
    "fi = view(fbi, (nb+1):N);"
   ]
  },
  {
   "cell_type": "markdown",
   "metadata": {},
   "source": [
    "Solving for boundary modes. First we need to correct the RHS: $f'_b = f_b - A_{bi}A_{ii}^{-1} f_i$."
   ]
  },
  {
   "cell_type": "code",
   "execution_count": 381,
   "metadata": {
    "collapsed": false
   },
   "outputs": [],
   "source": [
    "gemv!('T', -1.0, M, fi, 1.0, fb);"
   ]
  },
  {
   "cell_type": "markdown",
   "metadata": {},
   "source": [
    "Solve the boundary linear system:"
   ]
  },
  {
   "cell_type": "code",
   "execution_count": 382,
   "metadata": {
    "collapsed": false
   },
   "outputs": [],
   "source": [
    "potrs!('L', Abb, fb);"
   ]
  },
  {
   "cell_type": "markdown",
   "metadata": {},
   "source": [
    "Variable fb contains $x_b$. Now solve the equation for $x_i$:"
   ]
  },
  {
   "cell_type": "code",
   "execution_count": 383,
   "metadata": {
    "collapsed": true
   },
   "outputs": [],
   "source": [
    "potrs!('L', Aii, fi)\n",
    "gemv!('N', -1.0, M, fb, 1.0, fi);"
   ]
  },
  {
   "cell_type": "code",
   "execution_count": 384,
   "metadata": {
    "collapsed": false
   },
   "outputs": [
    {
     "data": {
      "text/plain": [
       "10-element Array{Float64,1}:\n",
       "  0.905635\n",
       "  1.58311 \n",
       "  1.03582 \n",
       " -0.54222 \n",
       "  1.62746 \n",
       "  2.02464 \n",
       "  0.478675\n",
       "  1.14602 \n",
       "  1.21231 \n",
       "  2.97395 "
      ]
     },
     "execution_count": 384,
     "metadata": {},
     "output_type": "execute_result"
    }
   ],
   "source": [
    "x = copy(fbi)"
   ]
  },
  {
   "cell_type": "markdown",
   "metadata": {},
   "source": [
    "Typical solution:"
   ]
  },
  {
   "cell_type": "code",
   "execution_count": 385,
   "metadata": {
    "collapsed": false
   },
   "outputs": [
    {
     "data": {
      "text/plain": [
       "10-element Array{Float64,1}:\n",
       "  0.905635\n",
       "  1.58311 \n",
       "  1.03582 \n",
       " -0.54222 \n",
       "  1.62746 \n",
       "  2.02464 \n",
       "  0.478675\n",
       "  1.14602 \n",
       "  1.21231 \n",
       "  2.97395 "
      ]
     },
     "execution_count": 385,
     "metadata": {},
     "output_type": "execute_result"
    }
   ],
   "source": [
    "x0 = A\\f"
   ]
  },
  {
   "cell_type": "code",
   "execution_count": 386,
   "metadata": {
    "collapsed": false
   },
   "outputs": [
    {
     "data": {
      "text/plain": [
       "10-element Array{Float64,1}:\n",
       " -1.11022e-16\n",
       " -4.44089e-16\n",
       " -4.44089e-16\n",
       "  1.11022e-16\n",
       " -2.22045e-16\n",
       "  4.44089e-16\n",
       " -6.66134e-16\n",
       " -4.44089e-16\n",
       "  4.44089e-16\n",
       "  4.44089e-16"
      ]
     },
     "execution_count": 386,
     "metadata": {},
     "output_type": "execute_result"
    }
   ],
   "source": [
    "x0 - x"
   ]
  },
  {
   "cell_type": "code",
   "execution_count": null,
   "metadata": {
    "collapsed": true
   },
   "outputs": [],
   "source": []
  }
 ],
 "metadata": {
  "kernelspec": {
   "display_name": "Julia 0.3.11",
   "language": "julia",
   "name": "julia-0.3"
  },
  "language_info": {
   "name": "julia",
   "version": "0.3.11"
  }
 },
 "nbformat": 4,
 "nbformat_minor": 0
}
